{
 "cells": [
  {
   "cell_type": "markdown",
   "id": "380e46b0",
   "metadata": {},
   "source": [
    "# 直接从序列开始进行聚类分析\n",
    "\n",
    "当前版本的`aptamerutils`对目标片段5'和3'端保守序列突变较多的测序结果分析效果可能不理想。可以考虑使用其它软件提取出reads数最高的前k条序列后，将序列放在txt文件里（不含标记、reads数等信息，每个序列单独一行）再进行聚类。\n",
    "\n",
    "如果你已经从`.fastq`文件中挑选好了前20条/前50条序列（txt文件），只需要聚类的话，可以采用以下的方法。"
   ]
  },
  {
   "cell_type": "code",
   "execution_count": 35,
   "id": "e0ba4f67",
   "metadata": {},
   "outputs": [],
   "source": [
    "from aptamerutils import SeqList\n",
    "\n",
    "seq = SeqList().fromLinesInFile(r\"C:\\Users\\31885\\Desktop\\Cellulose OH.txt\")"
   ]
  },
  {
   "cell_type": "markdown",
   "id": "32be6c02",
   "metadata": {},
   "source": [
    "然后选择是否trimming（取决于你的序列文件是怎样整理出来的），再计算距离、构建坐标、聚类。\n",
    "\n",
    "注意：相比于fastq文件中大批量序列的分类，序列很少时，需要按照情况具体更改参数。UMAP的`n_components`需要减小，不能大于去重复后序列的数量（该值默认为20，如果只分十几条序列，不修改就会报错）；聚类的`min_samples`也需要减小，该值默认为5，当序列数量较少时，很有可能会分不出类，可酌情降至2或3。如果每个类别中序列过多或过少，可以按情况修改`eps`，该值越大，每类中序列的数量越多。"
   ]
  },
  {
   "cell_type": "code",
   "execution_count": 36,
   "id": "7399033a",
   "metadata": {},
   "outputs": [
    {
     "name": "stderr",
     "output_type": "stream",
     "text": [
      "100%|██████████| 91/91 [00:00<00:00, 68279.37it/s]\n",
      "c:\\Users\\31885\\AppData\\Local\\Programs\\Python\\Python310\\lib\\site-packages\\umap\\umap_.py:1865: UserWarning: using precomputed metric; inverse_transform will be unavailable\n",
      "  warn(\"using precomputed metric; inverse_transform will be unavailable\")\n",
      "c:\\Users\\31885\\AppData\\Local\\Programs\\Python\\Python310\\lib\\site-packages\\umap\\umap_.py:2462: UserWarning: n_neighbors is larger than the dataset size; truncating to X.shape[0] - 1\n",
      "  warn(\n"
     ]
    },
    {
     "name": "stdout",
     "output_type": "stream",
     "text": [
      "UMAP(metric='precomputed', n_neighbors=50, verbose=True)\n",
      "Thu Aug  7 14:20:07 2025 Construct fuzzy simplicial set\n",
      "Thu Aug  7 14:20:07 2025 Finding Nearest Neighbors\n",
      "Thu Aug  7 14:20:07 2025 Finished Nearest Neighbor Search\n",
      "Thu Aug  7 14:20:07 2025 Construct embedding\n"
     ]
    },
    {
     "name": "stderr",
     "output_type": "stream",
     "text": [
      "Epochs completed: 100%| ██████████ 500/500 [00:00]"
     ]
    },
    {
     "name": "stdout",
     "output_type": "stream",
     "text": [
      "\tcompleted  0  /  500 epochs\n",
      "\tcompleted  50  /  500 epochs\n",
      "\tcompleted  100  /  500 epochs\n",
      "\tcompleted  150  /  500 epochs\n",
      "\tcompleted  200  /  500 epochs\n",
      "\tcompleted  250  /  500 epochs\n",
      "\tcompleted  300  /  500 epochs\n",
      "\tcompleted  350  /  500 epochs\n",
      "\tcompleted  400  /  500 epochs\n",
      "\tcompleted  450  /  500 epochs\n",
      "Thu Aug  7 14:20:07 2025 Finished embedding\n"
     ]
    },
    {
     "name": "stderr",
     "output_type": "stream",
     "text": [
      "\n"
     ]
    },
    {
     "data": {
      "text/plain": [
       "{Sequence(\"CATGTTGGTGGGTGGGTGGGTGGAAACTAT\"): {'Count': 4, 'label': {'cluster': 0, 'filelabel': 'Cellulose OH.txt'}}, Sequence(\"GGGACGAATAGGTGGGTGGGCGGGTGGATA\"): {'Count': 2, 'label': {'cluster': 1, 'filelabel': 'Cellulose OH.txt'}}, Sequence(\"CATTCTGGTGGGTGGGTGGGTGGAAGAATT\"): {'Count': 2, 'label': {'cluster': 0, 'filelabel': 'Cellulose OH.txt'}}, Sequence(\"TACACATACACACACACATATACATACAC\"): {'Count': 1, 'label': {'cluster': 2, 'filelabel': 'Cellulose OH.txt'}}, Sequence(\"TGGAGTCGGTGGGTGGGTGGGTGGAGACGA\"): {'Count': 1, 'label': {'cluster': 3, 'filelabel': 'Cellulose OH.txt'}}, Sequence(\"CAACACACACATACACACACATACACCTCG\"): {'Count': 1, 'label': {'cluster': 2, 'filelabel': 'Cellulose OH.txt'}}, Sequence(\"GCAATAGGTGGGTGGGTGGGTGGATATTGG\"): {'Count': 3, 'label': {'cluster': 3, 'filelabel': 'Cellulose OH.txt'}}, Sequence(\"CACACACATACATACACACACACATATACATA\"): {'Count': 1, 'label': {'cluster': -1, 'filelabel': 'Cellulose OH.txt'}}, Sequence(\"GTGGAGGCTCTCGGGACGACGGCGCGCTGGAG\"): {'Count': 1, 'label': {'cluster': 1, 'filelabel': 'Cellulose OH.txt'}}, Sequence(\"CATCTACTCCTCCCCTCCCCCCCATCTTCTC\"): {'Count': 1, 'label': {'cluster': 4, 'filelabel': 'Cellulose OH.txt'}}, Sequence(\"CATCTACCTATACACCTCTCCCTCCCTCTC\"): {'Count': 1, 'label': {'cluster': -1, 'filelabel': 'Cellulose OH.txt'}}, Sequence(\"CCTTCACTTCTCGTTTACTTGCTTGTTTAC\"): {'Count': 1, 'label': {'cluster': 4, 'filelabel': 'Cellulose OH.txt'}}, Sequence(\"GCAATAGGTGGGTGGGCGGGTGGATATTGG\"): {'Count': 1, 'label': {'cluster': 3, 'filelabel': 'Cellulose OH.txt'}}, Sequence(\"ACTCGGGTGGTGGGTGGGATTCGATTAAAT\"): {'Count': 1, 'label': {'cluster': 0, 'filelabel': 'Cellulose OH.txt'}}}"
      ]
     },
     "execution_count": 36,
     "metadata": {},
     "output_type": "execute_result"
    }
   ],
   "source": [
    "clusters = seq.generateDistMap().createPosMap(n_components = 2).getCluster(eps = 0.8, min_samples = 2)\n",
    "seq.getClustersLabeled(clusters)"
   ]
  },
  {
   "cell_type": "code",
   "execution_count": 37,
   "id": "6bd52427",
   "metadata": {},
   "outputs": [
    {
     "data": {
      "text/plain": [
       "<Axes: >"
      ]
     },
     "execution_count": 37,
     "metadata": {},
     "output_type": "execute_result"
    }
   ],
   "source": [
    "seq.drawText(r\"C:\\Users\\31885\\Desktop\\Cellulose OH.pdf\", 5, header=\"GACGAC\", end = \"GTCGTC\")"
   ]
  }
 ],
 "metadata": {
  "kernelspec": {
   "display_name": "Python 3",
   "language": "python",
   "name": "python3"
  },
  "language_info": {
   "codemirror_mode": {
    "name": "ipython",
    "version": 3
   },
   "file_extension": ".py",
   "mimetype": "text/x-python",
   "name": "python",
   "nbconvert_exporter": "python",
   "pygments_lexer": "ipython3",
   "version": "3.10.9"
  }
 },
 "nbformat": 4,
 "nbformat_minor": 5
}
