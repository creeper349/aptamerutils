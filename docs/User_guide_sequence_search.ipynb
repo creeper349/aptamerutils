{
 "cells": [
  {
   "cell_type": "markdown",
   "id": "0497a5ad",
   "metadata": {},
   "source": [
    "# 使用指南——序列整理与查找\n",
    "\n",
    "`aptamerutils`提供了一些简易的序列查找方案，可以从原始的`.fastq`测序文件中快速进行序列的计数、整理，以及对含有感兴趣的核酸片段的链进行快速查找匹配。"
   ]
  },
  {
   "cell_type": "markdown",
   "id": "1820aab3",
   "metadata": {},
   "source": [
    "## 测序序列的整理\n",
    "\n",
    "导入需要的模块，并从`.fastq`文件中读取数据。"
   ]
  },
  {
   "cell_type": "code",
   "execution_count": 3,
   "id": "bc7bec48",
   "metadata": {},
   "outputs": [],
   "source": [
    "from aptamerutils import SeqList\n",
    "\n",
    "seq = SeqList().fromfastqFolder(\"../example\")"
   ]
  },
  {
   "cell_type": "markdown",
   "id": "037e99ef",
   "metadata": {},
   "source": [
    "进行序列的trimming，挑选出有效序列。"
   ]
  },
  {
   "cell_type": "code",
   "execution_count": 4,
   "id": "bbf4b6fc",
   "metadata": {},
   "outputs": [],
   "source": [
    "seq = seq.trimTwoEndsWithLength(\"GACGAC\", 30)"
   ]
  },
  {
   "cell_type": "markdown",
   "id": "9ec99584",
   "metadata": {},
   "source": [
    "可以将导入的数据按照reads数排序后，写入json文件（方便查看的话，txt也可以），得到序列的去重与计数结果。"
   ]
  },
  {
   "cell_type": "code",
   "execution_count": 5,
   "id": "b0310efd",
   "metadata": {},
   "outputs": [],
   "source": [
    "seq = seq.sortbyCount()\n",
    "seq.saveJson(\"../example/results/save.json\")"
   ]
  },
  {
   "cell_type": "markdown",
   "id": "cbaba09f",
   "metadata": {},
   "source": [
    "## 目标序列的查找与计数\n",
    "\n",
    "`aptamerutils`不仅可以简单匹配含有某个特定片段的核酸序列，也支持借助`Find`模块，对目标序列所含的核酸片段特征进行逻辑运算，匹配较为复杂的要求。如下面是对含有片段`CTGTACC`的核酸序列的查找，查找结果储存于txt文件。"
   ]
  },
  {
   "cell_type": "code",
   "execution_count": 6,
   "id": "852268d7",
   "metadata": {},
   "outputs": [],
   "source": [
    "from aptamerutils import Find\n",
    "\n",
    "matchseq = seq.findCustomSeqCombination(Find(\"CTGTACC\"))\n",
    "matchseq.saveLines(\"../example/results/find_single.txt\")"
   ]
  },
  {
   "cell_type": "markdown",
   "id": "8fedefe3",
   "metadata": {},
   "source": [
    "`Find`对象支持Python的原生逻辑运算符&（且），|（或），~（非）。通过对象之间的逻辑运算，实现更灵活的序列匹配。如`Find(\"ATCCG\") & Find(\"GCGAC\")`可以匹配出同时含有`ATCCG`和`GCGAC`的序列；`Find(\"ATCCG\") | Find(\"GCGAC\")`可以匹配出含有`ATCCG`或`GCGAC`的序列；`Find(\"ATCCG\") & ~Find(\"GCGAC\")`可以匹配出含`ATCCG`但不含`GCGAC`的序列。"
   ]
  },
  {
   "cell_type": "code",
   "execution_count": 7,
   "id": "0d9c4f4f",
   "metadata": {},
   "outputs": [
    {
     "data": {
      "text/plain": [
       "{Sequence(\"TGGAAGGTTCCTGCTGGTTAGGAGGGTTTA\"): {'Count': 152, 'label': 'example.fastq'}, Sequence(\"TAGAAGGTTCATAGTTTTTAGGAGTGTCTG\"): {'Count': 44, 'label': 'example.fastq'}, Sequence(\"GGTGAGTGTCTGGTTTAGGAGAAGGGTCCT\"): {'Count': 25, 'label': 'example.fastq'}, Sequence(\"TGGAAGGTTCCTGCTGGTTAGGAGGGTTTG\"): {'Count': 9, 'label': 'example.fastq'}, Sequence(\"TGGAAGGTTCCTGCTGGTTAGGAGGGTGTA\"): {'Count': 5, 'label': 'example.fastq'}, Sequence(\"TGGAAGGTTCCTGCCGGTTAGGAGGGTGTA\"): {'Count': 4, 'label': 'example.fastq'}, Sequence(\"TGGAAGGTTCCTGCCGGTTAGGAGGGTTTA\"): {'Count': 3, 'label': 'example.fastq'}, Sequence(\"TAGAAGGTTCATAGTTTTAGGAGTGTCTGG\"): {'Count': 2, 'label': 'example.fastq'}, Sequence(\"TAGAAGGTTCATAGGGTTTAGGAGGGTCTG\"): {'Count': 2, 'label': 'example.fastq'}, Sequence(\"TAGAAGGTTCATAGGGTTTAGGAGTGTCTG\"): {'Count': 2, 'label': 'example.fastq'}, Sequence(\"GGTGAGTGTCTGGCTTAGGAGAAGGGTCCT\"): {'Count': 2, 'label': 'example.fastq'}, Sequence(\"TGGAAGGTTCCTGCTGGTTAGGAGGGGTTA\"): {'Count': 2, 'label': 'example.fastq'}, Sequence(\"TGGAAGGTTTCTGCTGGTTAGGAGGGTTTA\"): {'Count': 1, 'label': 'example.fastq'}, Sequence(\"TGGAAGGTTCCTGCTGGTTAGGAGGGTCTA\"): {'Count': 1, 'label': 'example.fastq'}, Sequence(\"TAGAAGGTTTATAGTTTTTAGGAGTGTCTG\"): {'Count': 1, 'label': 'example.fastq'}, Sequence(\"TGGAAGGTTCCTGCTGGTTAGGAGGGTTAA\"): {'Count': 1, 'label': 'example.fastq'}, Sequence(\"TAGAAGGTTCTTAGTTTTTAGGAGTGTCTG\"): {'Count': 1, 'label': 'example.fastq'}, Sequence(\"TAGAAGGTTCATAGTTTTTAGGAGGGTCTG\"): {'Count': 1, 'label': 'example.fastq'}, Sequence(\"TAGAAGGTTCATAGTCTTTAGGAGTGTCTG\"): {'Count': 1, 'label': 'example.fastq'}, Sequence(\"TAGAAGGGTTATAGGGTTTAGGAGGGTCTG\"): {'Count': 1, 'label': 'example.fastq'}, Sequence(\"TGGAAGGTTTCCGCCGGTTAGGAGGGCCTA\"): {'Count': 1, 'label': 'example.fastq'}, Sequence(\"TGGAAGGTTACTGCTGGTTAGGAGGGTGTA\"): {'Count': 1, 'label': 'example.fastq'}, Sequence(\"TAGAAGGTTCATAGGTTTTAGGAGTGTATG\"): {'Count': 1, 'label': 'example.fastq'}, Sequence(\"TAGAAGGCTCATAGACTTTAGGAGGGTCTG\"): {'Count': 1, 'label': 'example.fastq'}, Sequence(\"TAGAAGGTTCATAGTTCTTAGGAGTGTCTG\"): {'Count': 1, 'label': 'example.fastq'}, Sequence(\"TGGAAGGTTCCTGCTGGTTAGGAGGGCTTA\"): {'Count': 1, 'label': 'example.fastq'}, Sequence(\"TGGAAGGTTTCTGCCGGTTAGGAGGGTGTA\"): {'Count': 1, 'label': 'example.fastq'}, Sequence(\"TGGAAGGTTCCTGTTGGTTAGGAGGGTTTA\"): {'Count': 1, 'label': 'example.fastq'}, Sequence(\"GGAAGGTTTCTGCTGGTTAGGAGGGTTGAG\"): {'Count': 1, 'label': 'example.fastq'}, Sequence(\"TGGAAGGTTTCTGCAGGTTAGGAGGGTGTA\"): {'Count': 1, 'label': 'example.fastq'}, Sequence(\"TAGAAGGTTCATAGTTTTTAGGAGTGTCCG\"): {'Count': 1, 'label': 'example.fastq'}}"
      ]
     },
     "execution_count": 7,
     "metadata": {},
     "output_type": "execute_result"
    }
   ],
   "source": [
    "seq.findCustomSeqCombination(Find(\"GAAGG\") & Find(\"TTAGGAG\"))"
   ]
  },
  {
   "cell_type": "code",
   "execution_count": 8,
   "id": "1c09204c",
   "metadata": {},
   "outputs": [
    {
     "data": {
      "text/plain": [
       "{Sequence(\"GGAAGGTTCCTGTTTAAACAGTGAGGGTCT\"): {'Count': 187, 'label': 'example.fastq'}, Sequence(\"TGGAAGGTTCCTGCTGGTTAGGAGGGTTTA\"): {'Count': 152, 'label': 'example.fastq'}, Sequence(\"TAGAAGGTTCATAGTTTTTAGGAGTGTCTG\"): {'Count': 44, 'label': 'example.fastq'}, Sequence(\"GGTGAGTGTCTGGTTTAGGAGAAGGGTCCT\"): {'Count': 25, 'label': 'example.fastq'}, Sequence(\"TGGAAGGTTCCTGCTGGTTAGGAGGGTTTG\"): {'Count': 9, 'label': 'example.fastq'}, Sequence(\"GGAAGGTTCCTGTGGAAACAGTGAGGGTCT\"): {'Count': 8, 'label': 'example.fastq'}, Sequence(\"GAAAGGGTCCTATTGATTTTGGGAAGGTTT\"): {'Count': 6, 'label': 'example.fastq'}, Sequence(\"CACAGCAAGATCGTACGGAGAAGGTTGTGG\"): {'Count': 6, 'label': 'example.fastq'}, Sequence(\"GGAAGGTTCCTGTCTAAACAGTGAGGGTCT\"): {'Count': 6, 'label': 'example.fastq'}, Sequence(\"GGAAGGTTCCTGTGTAAACAGTGAGGGTCT\"): {'Count': 5, 'label': 'example.fastq'}, Sequence(\"TGGAAGGTTCCTGCTGGTTAGGAGGGTGTA\"): {'Count': 5, 'label': 'example.fastq'}, Sequence(\"GGAAGGTTCCTGTTTAAATAGTGAGGGTCT\"): {'Count': 5, 'label': 'example.fastq'}, Sequence(\"TGGAAGGTTCCTGCTGGTGAGGAGGGTTTA\"): {'Count': 4, 'label': 'example.fastq'}, Sequence(\"GGAAGGTTCCTGTTTAAAGAGTGAGGGTCT\"): {'Count': 4, 'label': 'example.fastq'}, Sequence(\"TGGAAGGTTCCTGCCGGTTAGGAGGGTGTA\"): {'Count': 4, 'label': 'example.fastq'}, Sequence(\"GGAAGGTTCCTGTTTAANCAGTGAGGGTCT\"): {'Count': 3, 'label': 'example.fastq'}, Sequence(\"TGGAAGGTTCCTGCTGGNTAGGAGGGTTTA\"): {'Count': 3, 'label': 'example.fastq'}, Sequence(\"TGGAAGGTTCCTGCCGGTTAGGAGGGTTTA\"): {'Count': 3, 'label': 'example.fastq'}, Sequence(\"TAGAAGGTTCATAGTTTTAGGAGTGTCTGG\"): {'Count': 2, 'label': 'example.fastq'}, Sequence(\"GGAAGGTTCCTGTTTAGACAGTGAGGGTCT\"): {'Count': 2, 'label': 'example.fastq'}, Sequence(\"GAAAGGGTCCTATTGGTTTTGGGAAGGTTT\"): {'Count': 2, 'label': 'example.fastq'}, Sequence(\"AAGGAGTGTCTAATAATTAGAAGGTTCCAG\"): {'Count': 2, 'label': 'example.fastq'}, Sequence(\"TAGAAGGTTCATAGGGTTTAGGAGGGTCTG\"): {'Count': 2, 'label': 'example.fastq'}, Sequence(\"GGAAGGTTCCTGTTTATACAGTGAGGGTCT\"): {'Count': 2, 'label': 'example.fastq'}, Sequence(\"TAGAAGGTTCATAGGGTTTAGGAGTGTCTG\"): {'Count': 2, 'label': 'example.fastq'}, Sequence(\"GGTGAGTGTCTGGCTTAGGAGAAGGGTCCT\"): {'Count': 2, 'label': 'example.fastq'}, Sequence(\"TGGAAGGTTCCTGCTGGTTAGGAGGGGTTA\"): {'Count': 2, 'label': 'example.fastq'}, Sequence(\"GGAAGGTTCCTGTTCAAACAGTGAGGGTCT\"): {'Count': 2, 'label': 'example.fastq'}, Sequence(\"GGAAGGTTCCTGTTGAAACAGTGAGGGTCT\"): {'Count': 2, 'label': 'example.fastq'}, Sequence(\"GAAAGGGTCCTCTTGATTTTGGGAAGGTTT\"): {'Count': 1, 'label': 'example.fastq'}, Sequence(\"TGGAAGGTTTCTGCTGGTTAGGAGGGTTTA\"): {'Count': 1, 'label': 'example.fastq'}, Sequence(\"TGGAAGGTTCCTGCTGGTAGGAGGGTTTAG\"): {'Count': 1, 'label': 'example.fastq'}, Sequence(\"TAGAAGGTTTATAGCCTCTAGGAGTGTCTG\"): {'Count': 1, 'label': 'example.fastq'}, Sequence(\"TGGAAGGTTCCTGCTGGTTAGGAGGGTCTA\"): {'Count': 1, 'label': 'example.fastq'}, Sequence(\"TAGAAGGTTTATAGTTTTTAGGAGTGTCTG\"): {'Count': 1, 'label': 'example.fastq'}, Sequence(\"TGGAAGGTTCCTGCTGGTTAGGAGGGTTAA\"): {'Count': 1, 'label': 'example.fastq'}, Sequence(\"GGAAGGTTCTTGTGCAAACAGTGAGGGGTT\"): {'Count': 1, 'label': 'example.fastq'}, Sequence(\"TAGAAGGTTCTTAGTTTTTAGGAGTGTCTG\"): {'Count': 1, 'label': 'example.fastq'}, Sequence(\"GGAAGGTTTTTGTCAAAACAGTGAGGGGCT\"): {'Count': 1, 'label': 'example.fastq'}, Sequence(\"GAAAGGGTCCTGGAGACTCTGGGAAGGTTT\"): {'Count': 1, 'label': 'example.fastq'}, Sequence(\"GGAAGGTTCCTGTTTAAACAGCGAGGGTCT\"): {'Count': 1, 'label': 'example.fastq'}, Sequence(\"TAGAAGGTTCATAGTTTTTAGGAGGGTCTG\"): {'Count': 1, 'label': 'example.fastq'}, Sequence(\"TAGAAGGTTCATAGTCTTTAGGAGTGTCTG\"): {'Count': 1, 'label': 'example.fastq'}, Sequence(\"TAGAAGGGTTATAGGGTTTAGGAGGGTCTG\"): {'Count': 1, 'label': 'example.fastq'}, Sequence(\"GGAAGGTTTCTGTCGAAACAGTGAGGGCCT\"): {'Count': 1, 'label': 'example.fastq'}, Sequence(\"GGAAGGTTTCTGTCTAAACAGTGAGGGGCT\"): {'Count': 1, 'label': 'example.fastq'}, Sequence(\"TGGAAGGTTCCTGCTGGTAAGGAGGGTTTA\"): {'Count': 1, 'label': 'example.fastq'}, Sequence(\"GGAAGGTTCCTGTCTAAAGAGTGAGGGTCT\"): {'Count': 1, 'label': 'example.fastq'}, Sequence(\"TGGAAGGTTTCCGCCGGTTAGGAGGGCCTA\"): {'Count': 1, 'label': 'example.fastq'}, Sequence(\"TAGAAGGTTCATAGTTTTAAGGAGTGTCTG\"): {'Count': 1, 'label': 'example.fastq'}, Sequence(\"GGAAGGTTCCTGTTTAAGCAGTGAGGGTCT\"): {'Count': 1, 'label': 'example.fastq'}, Sequence(\"CACAGCAAGATCGGACGGAGAAGGTTGTGG\"): {'Count': 1, 'label': 'example.fastq'}, Sequence(\"TGGAAGGTTACTGCTGGTTAGGAGGGTGTA\"): {'Count': 1, 'label': 'example.fastq'}, Sequence(\"GGAAGGTTCCTGTGCAAACAGTGAGGGTCT\"): {'Count': 1, 'label': 'example.fastq'}, Sequence(\"TAGAAGGTTCATAGGTTTTAGGAGTGTATG\"): {'Count': 1, 'label': 'example.fastq'}, Sequence(\"GGAAGGTTCATGTGGAAAAAGTGAGGGCCT\"): {'Count': 1, 'label': 'example.fastq'}, Sequence(\"GGAAGGTTCCTGTGCAAACAGTGAGGGGCT\"): {'Count': 1, 'label': 'example.fastq'}, Sequence(\"TAGAAGGCTCATAGACTTTAGGAGGGTCTG\"): {'Count': 1, 'label': 'example.fastq'}, Sequence(\"TAGAAGGTTCATAGTTCTTAGGAGTGTCTG\"): {'Count': 1, 'label': 'example.fastq'}, Sequence(\"GGAAGGTTCCTGTTGAAACAGTGAGGGGCT\"): {'Count': 1, 'label': 'example.fastq'}, Sequence(\"TGGAAGGTTCCTGCTGGTTAGGAGGGCTTA\"): {'Count': 1, 'label': 'example.fastq'}, Sequence(\"TGGAAGGTTCCTGCTGGGTAGGAGGGCTTA\"): {'Count': 1, 'label': 'example.fastq'}, Sequence(\"GGAAGGTTCCTGTAGAAACAGTGAGGGTCT\"): {'Count': 1, 'label': 'example.fastq'}, Sequence(\"TAGAAAGTTCATAGTATTTAGGAGTGTCTG\"): {'Count': 1, 'label': 'example.fastq'}, Sequence(\"TGGAAGGTTTCTGCCGGTTAGGAGGGTGTA\"): {'Count': 1, 'label': 'example.fastq'}, Sequence(\"GGAAGGTTTTTGTGCAAACAGTGAGGGCCT\"): {'Count': 1, 'label': 'example.fastq'}, Sequence(\"TGGAAGGTTCCTGTTGGTTAGGAGGGTTTA\"): {'Count': 1, 'label': 'example.fastq'}, Sequence(\"GGAAGGTTCCTGTTTAANTAGTGAGGGTCT\"): {'Count': 1, 'label': 'example.fastq'}, Sequence(\"TAGAAGGTTCATAGTTTNAAGGAGTGTCTG\"): {'Count': 1, 'label': 'example.fastq'}, Sequence(\"TGGAAGGTTCCTGCAGGNTAGGAGGGTTTA\"): {'Count': 1, 'label': 'example.fastq'}, Sequence(\"GGAAGGTTCCTGTGGAANCAGTGAGGGGCT\"): {'Count': 1, 'label': 'example.fastq'}, Sequence(\"GGAAGGTTCCTGTTGAANAAGTGAGGGTCT\"): {'Count': 1, 'label': 'example.fastq'}, Sequence(\"GGAAGGTTCCTGTGGAANCAGTGAGGGTAT\"): {'Count': 1, 'label': 'example.fastq'}, Sequence(\"GGAAGGTTTCTGCTGGTTAGGAGGGTTGAG\"): {'Count': 1, 'label': 'example.fastq'}, Sequence(\"GGAAGGTTCCTGTGGAAAAAGTGAGGGCTT\"): {'Count': 1, 'label': 'example.fastq'}, Sequence(\"GGAAGGTTCTTGTGTAAACAGTGAGGGTCT\"): {'Count': 1, 'label': 'example.fastq'}, Sequence(\"GGAAGGTTCCTGTTTTAACAGTGAGGGTCT\"): {'Count': 1, 'label': 'example.fastq'}, Sequence(\"GGAAGGTTCCTGTGTAAACAGTGAGGGGCT\"): {'Count': 1, 'label': 'example.fastq'}, Sequence(\"GGAAGGTTCTTGTGGAAACAGTGAGGGTCT\"): {'Count': 1, 'label': 'example.fastq'}, Sequence(\"GGAAGGTTCTTGTTTAAACAGTGAGGGGTT\"): {'Count': 1, 'label': 'example.fastq'}, Sequence(\"TGGAAGGTTTCTGCAGGTTAGGAGGGTGTA\"): {'Count': 1, 'label': 'example.fastq'}, Sequence(\"GGAAGGTTCTTGTCTAGACAGTGAGGGTCT\"): {'Count': 1, 'label': 'example.fastq'}, Sequence(\"TGGAAGGTTTCTGCAGGGTAGGAGGGTCTA\"): {'Count': 1, 'label': 'example.fastq'}, Sequence(\"GAAAGGGTCCTAGAGGCTCTGGGAAGGTTT\"): {'Count': 1, 'label': 'example.fastq'}, Sequence(\"GGTAGGTTCCTGCTGGTTAGGAGGGTTTAG\"): {'Count': 1, 'label': 'example.fastq'}, Sequence(\"TGGAAGGTTTCTGCGGGATAGGAGGGTTTA\"): {'Count': 1, 'label': 'example.fastq'}, Sequence(\"TAGAAGGTTCATAGTTTTTAGGAGTGTCCG\"): {'Count': 1, 'label': 'example.fastq'}, Sequence(\"GGAAGGTTTTTGTCGATACAGTGAGGGGCT\"): {'Count': 1, 'label': 'example.fastq'}, Sequence(\"GGAAGGTTCCTGTTTAAACAGTGAGGGTTT\"): {'Count': 1, 'label': 'example.fastq'}}"
      ]
     },
     "execution_count": 8,
     "metadata": {},
     "output_type": "execute_result"
    }
   ],
   "source": [
    "seq.findCustomSeqCombination(Find(\"GAAGGTT\") | Find(\"TTAGGAG\"))"
   ]
  },
  {
   "cell_type": "code",
   "execution_count": 9,
   "id": "fb8715fd",
   "metadata": {},
   "outputs": [
    {
     "data": {
      "text/plain": [
       "{Sequence(\"TAGAAAGTTCATAGTATTTAGGAGTGTCTG\"): {'Count': 1, 'label': 'example.fastq'}, Sequence(\"GGTAGGTTCCTGCTGGTTAGGAGGGTTTAG\"): {'Count': 1, 'label': 'example.fastq'}}"
      ]
     },
     "execution_count": 9,
     "metadata": {},
     "output_type": "execute_result"
    }
   ],
   "source": [
    "seq.findCustomSeqCombination(Find(\"TTAGGAG\") & ~Find(\"GAAGG\"))"
   ]
  }
 ],
 "metadata": {
  "kernelspec": {
   "display_name": "Python 3",
   "language": "python",
   "name": "python3"
  },
  "language_info": {
   "codemirror_mode": {
    "name": "ipython",
    "version": 3
   },
   "file_extension": ".py",
   "mimetype": "text/x-python",
   "name": "python",
   "nbconvert_exporter": "python",
   "pygments_lexer": "ipython3",
   "version": "3.10.9"
  }
 },
 "nbformat": 4,
 "nbformat_minor": 5
}
